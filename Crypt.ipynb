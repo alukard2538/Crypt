{
 "cells": [
  {
   "cell_type": "markdown",
   "metadata": {},
   "source": [
    "# Задание 1.\n"
   ]
  },
  {
   "cell_type": "markdown",
   "metadata": {},
   "source": [
    "Напишите функцию конвертации текста, представленном в шестнацеричном виде, в base64.\n",
    "\n",
    "Пример:\n",
    "\n",
    "Входные данные:\n",
    "\n",
    "49276d207374756479696e672043727970746f677261706879206c696b6520436c6175646520456c776f6f64205368616e6e6f6e21\n",
    "\n",
    "Выходные данные: \n",
    "\n",
    "SSdtIHN0dWR5aW5nIENyeXB0b2dyYXBoeSBsaWtlIENsYXVkZSBFbHdvb2QgU2hhbm5vbiE="
   ]
  },
  {
   "cell_type": "code",
   "execution_count": 5,
   "metadata": {},
   "outputs": [
    {
     "name": "stdout",
     "output_type": "stream",
     "text": [
      "Получилось!\n"
     ]
    }
   ],
   "source": [
    "import base64\n",
    "\n",
    "i = '49276d207374756479696e672043727970746f677261706879206c696b6520436c6175646520456c776f6f64205368616e6e6f6e21'\n",
    "o = 'SSdtIHN0dWR5aW5nIENyeXB0b2dyYXBoeSBsaWtlIENsYXVkZSBFbHdvb2QgU2hhbm5vbiE='\n",
    "\n",
    "b = bytes.fromhex(i) # Переводим строку в байтовую строку\n",
    "\n",
    "base64_bytes = base64.b64encode(b) # Байтовую строку переводим в байтовую строку base64 \n",
    "\n",
    "base64_message = base64_bytes.decode('ascii') # Декодируем \n",
    "\n",
    "assert o == base64_message\n",
    "print(f'Получилось!')"
   ]
  },
  {
   "cell_type": "markdown",
   "metadata": {},
   "source": [
    "# Задание 2."
   ]
  },
  {
   "cell_type": "markdown",
   "metadata": {},
   "source": [
    "Напишите функцию, которая принимает в качестве параметров два буфера одинаковой длины и производит операцию XOR над ними.\n",
    "\n",
    "Пример:\n",
    "\n",
    "Входные данные:\n",
    "\n",
    "506561636520416c6c204f7665722054686520576f726c64\n",
    "\n",
    "XOR\n",
    "\n",
    "4949544353551c0111001f010100061a021f010100061a02\n",
    "\n",
    "=\n",
    "\n",
    "192C352036755D6D7D2050776472264E6A7A21566F747666"
   ]
  },
  {
   "cell_type": "code",
   "execution_count": 6,
   "metadata": {},
   "outputs": [
    {
     "name": "stdout",
     "output_type": "stream",
     "text": [
      "Получилось!\n"
     ]
    }
   ],
   "source": [
    "i1 = '506561636520416c6c204f7665722054686520576f726c64'\n",
    "i2 = '4949544353551c0111001f010100061a021f010100061a02'\n",
    "o = '192C352036755D6D7D2050776472264E6A7A21566F747666'\n",
    "\n",
    "answer = hex(int(i1, 16) ^ int(i2, 16)).upper()[2:] # Просто XORим\n",
    "\n",
    "assert answer == o\n",
    "print('Получилось!')"
   ]
  },
  {
   "cell_type": "markdown",
   "metadata": {},
   "source": [
    "# Задание 3."
   ]
  },
  {
   "cell_type": "markdown",
   "metadata": {},
   "source": [
    "(не использовать метод полного перебора ключа)\n",
    "\n",
    "Дана строка закодированная в 16-виде. Данную строку получили путем операции XOR некоторого текста с одним символом. Расшифруйте это сообщение. \n",
    "\n",
    "Пример:\n",
    "\n",
    "Входные данные:\n",
    "\n",
    "19367831362e3d2b2c353d362c783136783336372f343d3c3f3d7839342f39212b782839212b782c303d783a3d2b2c7831362c3d2a3d2b2c\n",
    "\n",
    "Стадии выполнения задания:\n",
    "\n",
    "- 1: выполните задание без программной автоматизации - \"на листочке\".\n",
    "- 2: напишите программу дешифратор."
   ]
  },
  {
   "cell_type": "code",
   "execution_count": 7,
   "metadata": {},
   "outputs": [],
   "source": [
    "import re"
   ]
  },
  {
   "cell_type": "markdown",
   "metadata": {},
   "source": [
    "1) Разбиваем строку на биграммы"
   ]
  },
  {
   "cell_type": "code",
   "execution_count": 8,
   "metadata": {},
   "outputs": [
    {
     "name": "stdout",
     "output_type": "stream",
     "text": [
      "{'19': 1, '36': 6, '78': 8, '31': 3, '2e': 1, '3d': 8, '2b': 5, '2c': 6, '35': 1, '33': 1, '37': 1, '2f': 2, '34': 2, '3c': 1, '3f': 1, '39': 3, '21': 2, '28': 1, '30': 1, '3a': 1, '2a': 1}\n"
     ]
    }
   ],
   "source": [
    "inp = '19367831362e3d2b2c353d362c783136783336372f343d3c3f3d7839342f39212b782839212b782c303d783a3d2b2c7831362c3d2a3d2b2c'\n",
    "\n",
    "d = {}\n",
    "\n",
    "for i in range(0, len(inp), 2):\n",
    "    if inp[i:i+2] not in d.keys():\n",
    "        d[inp[i:i+2]] = 1\n",
    "    else:\n",
    "        d[inp[i:i+2]] += 1\n",
    "        \n",
    "print(d)"
   ]
  },
  {
   "cell_type": "markdown",
   "metadata": {},
   "source": [
    "2) Находим самые часто встречаемые биграммы "
   ]
  },
  {
   "cell_type": "code",
   "execution_count": 9,
   "metadata": {},
   "outputs": [
    {
     "name": "stdout",
     "output_type": "stream",
     "text": [
      "['78', '3d']\n"
     ]
    }
   ],
   "source": [
    "key_max = 0\n",
    "m = 0\n",
    "\n",
    "for k,v in d.items():\n",
    "    if v > m:\n",
    "        m = v\n",
    "        key_max = k\n",
    "        \n",
    "max_freq = []\n",
    "\n",
    "for k,v in d.items():\n",
    "    if v == m:\n",
    "        max_freq.append(k)\n",
    "        \n",
    "print(max_freq)"
   ]
  },
  {
   "cell_type": "markdown",
   "metadata": {},
   "source": [
    "4) Предположим, что один из этих символов зашифрованная e английская либо пробел, т.к. это самая часто встречаемая буква в английском алфавите"
   ]
  },
  {
   "cell_type": "code",
   "execution_count": 10,
   "metadata": {},
   "outputs": [
    {
     "name": "stdout",
     "output_type": "stream",
     "text": [
      "['20', '65', '74', '61', '6f', '69']\n"
     ]
    }
   ],
   "source": [
    "chars = [' ', 'e', 't', 'a', 'o', 'i']\n",
    "chars_encode = [char.encode('ascii').hex() for char in chars]\n",
    "print(chars_encode)"
   ]
  },
  {
   "cell_type": "markdown",
   "metadata": {},
   "source": [
    "5) Найдем список возможных ключей"
   ]
  },
  {
   "cell_type": "code",
   "execution_count": 11,
   "metadata": {},
   "outputs": [
    {
     "name": "stdout",
     "output_type": "stream",
     "text": [
      "['0x54', '0x52', '0x11', '0x58', '0x19', '0x1d', '0x5c', '0x49', '0xc', '0x17']\n"
     ]
    }
   ],
   "source": [
    "keys = [[hex(int(char_encode, 16) ^ int(a, 16)) for a in max_freq] for char_encode in chars_encode]\n",
    "keys = list(set(sum(keys, [])))\n",
    "print(keys)"
   ]
  },
  {
   "cell_type": "markdown",
   "metadata": {},
   "source": [
    "6) Применим все ключи к входной строке"
   ]
  },
  {
   "cell_type": "code",
   "execution_count": 12,
   "metadata": {},
   "outputs": [
    {
     "name": "stdout",
     "output_type": "stream",
     "text": [
      "Предложение под номером 0, длиной 56 - Mb,ebzixaibx,eb,gbc{`ihki,m`{mu,|mu,xdi,nix,ebxi~ix\n",
      "Предложение под номером 1, длиной 56 - Kd*cd|oy~god~*cd*ade}fonmo*kf}ksy*zksy*~bo*hoy~*cd~oxoy~\n",
      "Предложение под номером 2, длиной 56 -'i '?,:=$,'=i 'i\"'&>%,-.,i(%>(0:i9(0:i=!,i+,:=i '=,;,:=\n",
      "Предложение под номером 3, длиной 56 - An investment in knowledge always pays the best interest\n",
      "Предложение под номером 4, длиной 56 - \u0000/a(/7$25,$/5a(/a*/.6-$%&$a -6 82a1 82a5)$a#$25a(/5$3$25\n",
      "Предложение под номером 5, длиной 56 - \u0004+e,+3 61( +1e,+e.+*2) !\" e$)2$<6e5$<6e1- e' 61e,+1 7 61\n",
      "Предложение под номером 6, длиной 56 - Ej$mjrawpiajp$mj$ojksha`ca$ehse}w$te}w$pla$fawp$mjpavawp\n",
      "Предложение под номером 7, длиной 56 - P1xgtbe|te1x1z~f}tuvt1p}fphb1aphb1eyt1stbe1xetctbe\n",
      "Предложение под номером 8, длиной 56 - \u0015:t=:\"1' 91: t=:t?:;#81031t58#5-'t$5-'t <1t61' t=: 1&1' \n",
      "Предложение под номером 9, длиной 56 - \u000e!o&!9*<;\"*!;o&!o$! 8#*+(*o.#8.6<o?.6<o;'*o-*<;o&!;*=*<;\n"
     ]
    }
   ],
   "source": [
    "bi_inp = [inp[i:i+2] for i in range(0, len(inp), 2)]\n",
    "out = [[chr(int(key, 16) ^ int(a, 16)) for a in bi_inp] for key in keys]\n",
    "out = [''.join(out[i]) for i in range(len(out))]\n",
    "\n",
    "for i in range(len(out)):\n",
    "    print(f'Предложение под номером {i}, длиной {len(out[i])} - {out[i]}')"
   ]
  },
  {
   "cell_type": "markdown",
   "metadata": {},
   "source": [
    "7) Напишем функцию для фильтрации мусорных предложений"
   ]
  },
  {
   "cell_type": "code",
   "execution_count": 13,
   "metadata": {},
   "outputs": [
    {
     "name": "stdout",
     "output_type": "stream",
     "text": [
      "An investment in knowledge always pays the best interest\n"
     ]
    }
   ],
   "source": [
    "out_filtred = [re.sub(\"[^A-Za-z. ]\",\"\",i) for i in out]\n",
    "for line in out_filtred:\n",
    "    if len(line) >= 0.95*len(inp)/2:\n",
    "        print(line)"
   ]
  },
  {
   "cell_type": "markdown",
   "metadata": {},
   "source": [
    "# Задание 4.\n",
    "В качестве входных данных дается файл со строками в hex. Одна из этих строк зашифрована с помощью XOR на одно-символьном ключе. Найдите и расшифруйте эту строку."
   ]
  },
  {
   "cell_type": "markdown",
   "metadata": {},
   "source": [
    "Функция-гибрид частотного метода и брутфорса"
   ]
  },
  {
   "cell_type": "code",
   "execution_count": 14,
   "metadata": {},
   "outputs": [],
   "source": [
    "def brute_force_decode(inp):\n",
    "    d = {}\n",
    "\n",
    "    for i in range(0, len(inp), 2):\n",
    "        if inp[i:i+2] not in d.keys():\n",
    "            d[inp[i:i+2]] = 1\n",
    "        else:\n",
    "            d[inp[i:i+2]] += 1\n",
    "\n",
    "    m = 0\n",
    "\n",
    "    for k,v in d.items():\n",
    "        if v > m:\n",
    "            m = v\n",
    "            key_max = k\n",
    "\n",
    "    max_freq = []\n",
    "\n",
    "    for k,v in d.items():\n",
    "        if v == m:\n",
    "            max_freq.append(k)\n",
    "            \n",
    "    chars = [' ', 'e', 't', 'a', 'o', 'i']\n",
    "    chars_encode = [char.encode('ascii').hex() for char in chars]\n",
    "    \n",
    "    keys = [[hex(int(char_encode, 16) ^ int(a, 16)) for a in max_freq] for char_encode in chars_encode]\n",
    "    keys = list(set(sum(keys, [])))\n",
    "    \n",
    "    bi_inp = [inp[i:i+2] for i in range(0, len(inp), 2)]\n",
    "    \n",
    "    out = [[chr(int(key, 16) ^ int(a, 16)) for a in bi_inp] for key in keys]\n",
    "    out = [''.join(out[i]) for i in range(len(out))]\n",
    "    \n",
    "    return out"
   ]
  },
  {
   "cell_type": "code",
   "execution_count": 94,
   "metadata": {},
   "outputs": [],
   "source": [
    "with open('task14.input') as f:\n",
    "    message = ''.join([line for line in f]).split('\\n')\n",
    "string_len = len(message[0])/2"
   ]
  },
  {
   "cell_type": "code",
   "execution_count": 95,
   "metadata": {},
   "outputs": [
    {
     "data": {
      "text/plain": [
       "30.0"
      ]
     },
     "execution_count": 95,
     "metadata": {},
     "output_type": "execute_result"
    }
   ],
   "source": [
    "string_len"
   ]
  },
  {
   "cell_type": "code",
   "execution_count": 96,
   "metadata": {},
   "outputs": [],
   "source": [
    "all_strings = sum([brute_force_decode(line) for line in message], [])"
   ]
  },
  {
   "cell_type": "code",
   "execution_count": 97,
   "metadata": {},
   "outputs": [
    {
     "name": "stdout",
     "output_type": "stream",
     "text": [
      "Kakim umnym ja sebja chuvstvuu\n"
     ]
    }
   ],
   "source": [
    "out_filtred = [re.sub(\"[^A-Za-z. ]\",\"\",i) for i in all_strings]\n",
    "for line in out_filtred:\n",
    "    if len(line) >= 0.95*string_len:\n",
    "        print(line)"
   ]
  },
  {
   "cell_type": "markdown",
   "metadata": {},
   "source": [
    "# Задание 5.\n",
    "Реализуйте шифрование XOR'ом с повторяющимся ключом.\n",
    "\n",
    "\n",
    "Пример:\n",
    "\n",
    "Входные данные: ссылка\n",
    "\n",
    "Ключ: Shannon\n",
    "\n",
    "Результат: 00000000000000730b0e001a1d07311d150b0a4f1a3c4815060b4f083a0d0d0a4e0008730b13171e1b0f3d090d171d061d730e0e1c4e010f27010e000f034e370d070b\n",
    "001c0b730c141c070109733f0e1c020b4e0409134e272642736208000d031b37010f094e07072048030f1d060d731f0e1c054f013d4802010a0a0c210d000507010973090f0a4e1c0\n",
    "b301d130b4e1b0b3f0d020103021b3d01020f1a06013d1b4f"
   ]
  },
  {
   "cell_type": "markdown",
   "metadata": {},
   "source": [
    "Функция перевода строки в биты:"
   ]
  },
  {
   "cell_type": "code",
   "execution_count": 99,
   "metadata": {},
   "outputs": [],
   "source": [
    "def string_to_bits(string):\n",
    "    return ''.join([f'{ord(char):08b}' for char in string])"
   ]
  },
  {
   "cell_type": "markdown",
   "metadata": {},
   "source": [
    "Входные данные"
   ]
  },
  {
   "cell_type": "code",
   "execution_count": 101,
   "metadata": {},
   "outputs": [],
   "source": [
    "key = 'Shannon'\n",
    "test_out = '00000000000000730b0e001a1d07311d150b0a4f1a3c4815060b4f083a0d0d0a4e0008730b13171e1b0f3d090d171d061d730e0e1c4e010f27010e000f034e370d070b001c0b730c141c070109733f0e1c020b4e0409134e272642736208000d031b37010f094e07072048030f1d060d731f0e1c054f013d4802010a0a0c210d000507010973090f0a4e1c0b301d130b4e1b0b3f0d020103021b3d01020f1a06013d1b4f'\n",
    "with open('task15.input', 'r') as f:\n",
    "    message = f.read()\n",
    "    if message.endswith('\\n'):\n",
    "        message = message[:-1]"
   ]
  },
  {
   "cell_type": "markdown",
   "metadata": {},
   "source": [
    "Переведем всё в биты"
   ]
  },
  {
   "cell_type": "code",
   "execution_count": 102,
   "metadata": {},
   "outputs": [
    {
     "name": "stdout",
     "output_type": "stream",
     "text": [
      "Ключ - 01010011011010000110000101101110011011100110111101101110\n",
      "Сообщение - 0101001101101000011000010110111001101110011011110110111000100000011000110110111101101110011101000111001001101001011000100111010101110100011001010110010000100000011101000110111100100000011101000110100001100101001000000110011001101001011001010110110001100100001000000110111101100110001000000110001101110010011110010111000001110100011000010110111001100001011011000111100101110011011010010111001100100000011001100110111101110010001000000110111001100001011101000110100101101111011011100110000101101100001000000110010001100101011001100110010101101110011100110110010100100000011001000111010101110010011010010110111001100111001000000101011101101111011100100110110001100100001000000101011101100001011100100010000001001001010010010010110000100000000010100110100101101110011000110110110001110101011001000110100101101110011001110010000001101000011010010111001100100000011000100110000101110011011010010110001100100000011101110110111101110010011010110010000001101111011011100010000001100011011011110110010001100101011000100111001001100101011000010110101101101001011011100110011100100000011000010110111001100100001000000111001101100101011000110111010101110010011001010010000001110100011001010110110001100101011000110110111101101101011011010111010101101110011010010110001101100001011101000110100101101111011011100111001100101110\n"
     ]
    }
   ],
   "source": [
    "key_in_bits = string_to_bits(key)\n",
    "message_in_bits = string_to_bits(message)\n",
    "print(f'Ключ - {key_in_bits}')\n",
    "print(f'Сообщение - {message_in_bits}')"
   ]
  },
  {
   "cell_type": "markdown",
   "metadata": {},
   "source": [
    "Повторим ключ до длины входного сообщения"
   ]
  },
  {
   "cell_type": "code",
   "execution_count": 78,
   "metadata": {},
   "outputs": [
    {
     "data": {
      "text/plain": [
       "True"
      ]
     },
     "execution_count": 78,
     "metadata": {},
     "output_type": "execute_result"
    }
   ],
   "source": [
    "repeat_key = f'{key_in_bits * ((len(message_in_bits) // len(key_in_bits)) + 1)}'[:len(message_in_bits)]\n",
    "len(repeat_key) == len(message_in_bits)"
   ]
  },
  {
   "cell_type": "markdown",
   "metadata": {},
   "source": [
    "Применим операцию XOR к сообщению и ключу побитово"
   ]
  },
  {
   "cell_type": "code",
   "execution_count": 80,
   "metadata": {},
   "outputs": [],
   "source": [
    "out_in_bits = ''.join([str(int(message_in_bits[i], 2) ^ int(repeat_key[i], 2)) for i in range(len(message_in_bits))])"
   ]
  },
  {
   "cell_type": "markdown",
   "metadata": {},
   "source": [
    "Переведем в шестнадцатиричку"
   ]
  },
  {
   "cell_type": "code",
   "execution_count": 81,
   "metadata": {},
   "outputs": [],
   "source": [
    "out_in_hex = ''.join([f'{hex(int(c, 2))[2:]}' for c in [out_in_bits[i: i + 4] for i in range(0, len(out_in_bits), 4)]])"
   ]
  },
  {
   "cell_type": "markdown",
   "metadata": {},
   "source": [
    "Проверим правильность преобразований"
   ]
  },
  {
   "cell_type": "code",
   "execution_count": 82,
   "metadata": {},
   "outputs": [
    {
     "name": "stdout",
     "output_type": "stream",
     "text": [
      "00000000000000730b0e001a1d07311d150b0a4f1a3c4815060b4f083a0d0d0a4e0008730b13171e1b0f3d090d171d061d730e0e1c4e010f27010e000f034e370d070b001c0b730c141c070109733f0e1c020b4e0409134e272642736208000d031b37010f094e07072048030f1d060d731f0e1c054f013d4802010a0a0c210d000507010973090f0a4e1c0b301d130b4e1b0b3f0d020103021b3d01020f1a06013d1b4f \n",
      "\n",
      "00000000000000730b0e001a1d07311d150b0a4f1a3c4815060b4f083a0d0d0a4e0008730b13171e1b0f3d090d171d061d730e0e1c4e010f27010e000f034e370d070b001c0b730c141c070109733f0e1c020b4e0409134e272642736208000d031b37010f094e07072048030f1d060d731f0e1c054f013d4802010a0a0c210d000507010973090f0a4e1c0b301d130b4e1b0b3f0d020103021b3d01020f1a06013d1b4f\n"
     ]
    }
   ],
   "source": [
    "print(test_out,'\\n')\n",
    "print(out_in_hex)"
   ]
  },
  {
   "cell_type": "code",
   "execution_count": 83,
   "metadata": {},
   "outputs": [],
   "source": [
    "assert out_in_hex == test_out\n",
    "print('Получилось!')"
   ]
  },
  {
   "cell_type": "markdown",
   "metadata": {},
   "source": [
    "# Задание 6.\n",
    "Задание: Расшифруйте данные зашифрованные XOR'ом с повторяющимся ключом.\n",
    "Входные данные: ссылка"
   ]
  },
  {
   "cell_type": "code",
   "execution_count": 177,
   "metadata": {},
   "outputs": [],
   "source": [
    "with open('task16.txt') as f:\n",
    "    message = ' '.join([line for line in f])"
   ]
  },
  {
   "cell_type": "code",
   "execution_count": 178,
   "metadata": {},
   "outputs": [
    {
     "data": {
      "text/plain": [
       "'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\\n'"
      ]
     },
     "execution_count": 178,
     "metadata": {},
     "output_type": "execute_result"
    }
   ],
   "source": [
    "message"
   ]
  },
  {
   "cell_type": "code",
   "execution_count": null,
   "metadata": {},
   "outputs": [],
   "source": []
  }
 ],
 "metadata": {
  "kernelspec": {
   "display_name": "Python 3",
   "language": "python",
   "name": "python3"
  },
  "language_info": {
   "codemirror_mode": {
    "name": "ipython",
    "version": 3
   },
   "file_extension": ".py",
   "mimetype": "text/x-python",
   "name": "python",
   "nbconvert_exporter": "python",
   "pygments_lexer": "ipython3",
   "version": "3.8.0"
  }
 },
 "nbformat": 4,
 "nbformat_minor": 4
}
